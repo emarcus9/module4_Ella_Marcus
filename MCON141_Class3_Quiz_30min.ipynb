{
  "cells": [
    {
      "cell_type": "markdown",
      "metadata": {
        "id": "view-in-github",
        "colab_type": "text"
      },
      "source": [
        "<a href=\"https://colab.research.google.com/github/emarcus9/module4_Ella_Marcus/blob/main/MCON141_Class3_Quiz_30min.ipynb\" target=\"_parent\"><img src=\"https://colab.research.google.com/assets/colab-badge.svg\" alt=\"Open In Colab\"/></a>"
      ]
    },
    {
      "cell_type": "markdown",
      "id": "d4f532fd",
      "metadata": {
        "id": "d4f532fd"
      },
      "source": [
        "\n",
        "# MCON 141 — Class 3 **30‑Minute Programming Quiz** (Logic-Heavy)\n",
        "\n",
        "**Focus:** decision structures and boolean logic (`and`, `or`, `not`), nested `if`, `if‑elif‑else`, input validation.  \n",
        "**Explicitly excluded:** functions, `if __name__ == \"__main__\":`\n",
        "\n",
        "**Academic Honesty Attestation**  \n",
        "Because I wanted to give you an exam that allows you to use the Python programming environment, I am not able to place this exam within LockDown Browser. For this reason, I ask you to **attest** that you did not use any support on this exam (no AI assistants, no collaboration, no external code).\n",
        "\n",
        "In the cell below, type exactly:\n",
        "```\n",
        "I attest that I worked alone without outside assistance.\n",
        "```\n"
      ]
    },
    {
      "cell_type": "code",
      "execution_count": null,
      "id": "2cbce49f",
      "metadata": {
        "colab": {
          "base_uri": "https://localhost:8080/"
        },
        "id": "2cbce49f",
        "outputId": "91c878a8-b909-47b9-e7a0-b0f7efdc2603"
      },
      "outputs": [
        {
          "output_type": "stream",
          "name": "stdout",
          "text": [
            "I attest that I worked alone without outside assistance.\n"
          ]
        }
      ],
      "source": [
        "\n",
        "# Type your attestation exactly as requested on a single print line:\n",
        "# Example:\n",
        "# print(\"I attest that I worked alone without outside assistance.\")\n",
        "\n",
        "print(\"I attest that I worked alone without outside assistance.\")\n"
      ]
    },
    {
      "cell_type": "markdown",
      "id": "5002e392",
      "metadata": {
        "id": "5002e392"
      },
      "source": [
        "\n",
        "---\n",
        "\n",
        "## IMPORTANT RULES (Read before starting)\n",
        "- **Do not** define functions; write straight-line code in each cell.\n",
        "- For **any invalid input or out-of-range values**, you **must** use `try`, `raise` (when appropriate), and `except`:\n",
        "  - Use `ValueError` for non-numeric inputs or invalid options (e.g., not one of `y/n`, not one of `red/yellow/green`).\n",
        "  - Use `ValueError` when a numeric value is outside the required range.\n",
        "- Normalize option inputs with `.strip().lower()` as specified (this removes extra spaces and puts all words into lowercase letters)\n",
        "- Use clear boolean logic with `and` / `or` / `not` where required.\n",
        "- Keep outputs visible for grading.\n",
        "- This environment is deliberately given to you so that you can debug your code, please use this feature, it is the purpose giving you the exam in this format.\n"
      ]
    },
    {
      "cell_type": "markdown",
      "id": "113c937c",
      "metadata": {
        "id": "113c937c"
      },
      "source": [
        "\n",
        "## 1) Leap year logic (`and`/`or`/`not`) — **with validation**\n",
        "\n",
        "**Prompt**\n",
        "- Ask for **year** (an integer **>= 1**).\n",
        "- A year is a leap year if it is divisible by 4 **and** not divisible by 100, **or** it is divisible by 400.\n",
        "\n",
        "**Requirements**\n",
        "- Validate input:\n",
        "  - If the value is not an integer → handle with `except ValueError`.\n",
        "  - If the integer is **< 1** → `raise ValueError(\"Year must be >= 1.\")` and handle it.\n",
        "- Print exactly `\"Leap year\"` or `\"Not a leap year\"` when valid.\n"
      ]
    },
    {
      "cell_type": "code",
      "execution_count": null,
      "id": "d0ca7ece",
      "metadata": {
        "colab": {
          "base_uri": "https://localhost:8080/"
        },
        "id": "d0ca7ece",
        "outputId": "7031eb3d-9b6e-47d7-b04e-62527a7fdd98"
      },
      "outputs": [
        {
          "output_type": "stream",
          "name": "stdout",
          "text": [
            "What is the year? 2006\n",
            "Not a leap year\n"
          ]
        }
      ],
      "source": [
        "\n",
        "# YOUR CODE HERE\n",
        "# Implement: input -> int year, validate (>=1), compute leap, print result.\n",
        "# Use try/raise/except with ValueError as specified.\n",
        "\n",
        "# Write code below:\n",
        "\n",
        "try:\n",
        "  year= int(input(\"What is the year? \"))\n",
        "  if year < 1:\n",
        "    raise ValueError(\"Invalid input- please enter a year about 0.\")\n",
        "  if ((year % 4 == 0) and (year % 100 == 0)) or (year % 400 == 0):\n",
        "    print(\"Leap year\")\n",
        "  else:\n",
        "   print(\"Not a leap year\")\n",
        "except ValueError:\n",
        "  print(\"Invalid input- please enter an integer.\")\n",
        "  #return- doesn't work because as per instructions it's not in a function and exit doesn't work in colab\n",
        "\n"
      ]
    },
    {
      "cell_type": "markdown",
      "id": "6c9922fe",
      "metadata": {
        "id": "6c9922fe"
      },
      "source": [
        "\n",
        "## 2) Traffic light + pedestrian button (nested `if`) — **with validation**\n",
        "\n",
        "**Prompt**\n",
        "- Ask for **light** (`\"red\"`, `\"yellow\"`, `\"green\"`) and **button** (`\"y\"`/`\"n\"`). Normalize to lowercase with `.strip().lower()`.\n",
        "\n",
        "**Rules to decide what to print**  \n",
        "- If `light == \"green\"`:\n",
        "  - If `button == \"y\"` → print `\"Walk\"`\n",
        "  - If `button == \"n\"` → print `\"Wait\"`\n",
        "- If `light == \"yellow\"` → print `\"Wait\"` (ignore button)\n",
        "- If `light == \"red\"` → print `\"Don't walk\"` (ignore button)\n",
        "\n",
        "**Requirements**\n",
        "- Validate both inputs:\n",
        "  - If `light` is not one of the three allowed words → `raise ValueError(\"light must be red/yellow/green\")` and handle it.\n",
        "  - If `button` is not `\"y\"` or `\"n\"` → `raise ValueError(\"button must be y/n\")` and handle it.\n",
        "- Use a **nested `if` inside the green branch**.\n"
      ]
    },
    {
      "cell_type": "code",
      "execution_count": null,
      "id": "6e43563f",
      "metadata": {
        "colab": {
          "base_uri": "https://localhost:8080/"
        },
        "id": "6e43563f",
        "outputId": "b1fab472-d7e7-4cfd-d173-c4b2b8fedf2e"
      },
      "outputs": [
        {
          "output_type": "stream",
          "name": "stdout",
          "text": [
            "What color is the light? (red, yellow, green) green\n",
            "Is the button yes or no? (y/n) y\n",
            "Walk\n"
          ]
        }
      ],
      "source": [
        "\n",
        "# YOUR CODE HERE\n",
        "# Implement: read light, button; validate via try/raise/except (ValueError);\n",
        "# then apply the rules with nested if for green.\n",
        "\n",
        "# Write code below:\n",
        "\n",
        "\n",
        "light= input(\"What color is the light? (red, yellow, green) \").strip().lower()\n",
        "if light not in ('red','yellow','green'):\n",
        "  raise ValueError(\"light must be red/yellow/green\")\n",
        "\n",
        "button= input(\"Is the button yes or no? (y/n) \").strip().lower()\n",
        "if button not in ('y','n'):\n",
        "  raise ValueError(\"button must be y/n\")\n",
        "if light == \"green\":\n",
        "  if button == \"y\":\n",
        "    print(\"Walk\")\n",
        "  else:\n",
        "    print(\"Wait\")\n",
        "elif light == \"yellow\":\n",
        "  print(\"Wait\")\n",
        "else:\n",
        "  print(\"Don't walk\")\n",
        "\n",
        "\n",
        "\n"
      ]
    },
    {
      "cell_type": "markdown",
      "id": "b6838f39",
      "metadata": {
        "id": "b6838f39"
      },
      "source": [
        "\n",
        "## 3) Exam eligibility (`and`/`or`) — **with validation**\n",
        "\n",
        "**Prompt**\n",
        "- Ask for **attendance_percent** (int, range **0–100**), **integrity_flag** (`\"y\"` if there was any integrity issue, otherwise `\"n\"`), and **makeup_request** (`\"y\"`/`\"n\"`). Normalize option inputs.\n",
        "\n",
        "**Eligibility rule**\n",
        "- `\"Eligible\"` if\n",
        "  - `attendance_percent >= 75 and integrity_flag == \"n\"` **or**\n",
        "  - `attendance_percent >= 60 and makeup_request == \"y\" and integrity_flag == \"n\"`  \n",
        "- Otherwise `\"Not eligible\"`.\n",
        "\n",
        "**Requirements**\n",
        "- Validate input:\n",
        "  - Non-integer attendance → handle with `except ValueError`.\n",
        "  - If attendance is **outside 0–100** → `raise ValueError(\"attendance_percent must be between 0 and 100.\")` and handle it.\n",
        "  - If any option is not `y/n` → `raise ValueError(\"expected y/n\")` and handle it.\n"
      ]
    },
    {
      "cell_type": "code",
      "execution_count": null,
      "id": "1cc5f124",
      "metadata": {
        "colab": {
          "base_uri": "https://localhost:8080/"
        },
        "id": "1cc5f124",
        "outputId": "8249d950-26e8-4332-c7c6-3df32ee17a52"
      },
      "outputs": [
        {
          "output_type": "stream",
          "name": "stdout",
          "text": [
            "What is your attendance percent? 80\n",
            "Was there an integrity issue? (y/n) y\n",
            "Is there a makeup request? (y/n) n\n",
            "Not eligible\n"
          ]
        }
      ],
      "source": [
        "\n",
        "# YOUR CODE HERE\n",
        "# Implement: read and validate inputs; compute eligibility using the rule above; print \"Eligible\" or \"Not eligible\".\n",
        "# Use try/raise/except with ValueError as specified.\n",
        "\n",
        "# Write code below:\n",
        "\n",
        "try:\n",
        "  attendance_percent= int(input(\"What is your attendance percent? \"))\n",
        "  if attendance_percent < 0 or attendance_percent > 100:\n",
        "    raise ValueError(\"Invalid input- please enter an integer between 0 and 100.\")\n",
        "  integrity_flag= input(\"Was there an integrity issue? (y/n) \").strip().lower()\n",
        "  if integrity_flag not in ('y','n'):\n",
        "    raise ValueError(\"expected y/n\")\n",
        "  makeup_request= input(\"Is there a makeup request? (y/n) \").strip().lower()\n",
        "  if makeup_request not in ('y','n'):\n",
        "   raise ValueError(\"expected y/n\")\n",
        "  if (attendance_percent >= 75 and integrity_flag == 'n') or (attendance_percent >= 60 and makeup_request == 'y' and integrity_flag == 'n'):\n",
        "    print(\"Eligible\")\n",
        "  else:\n",
        "    print(\"Not eligible\")\n",
        "except ValueError:\n",
        "  print(\"attendance_percent must be between 0 and 100.\")\n",
        "\n",
        "\n",
        "\n"
      ]
    },
    {
      "cell_type": "markdown",
      "id": "d3f90474",
      "metadata": {
        "id": "d3f90474"
      },
      "source": [
        "\n",
        "## 4) Coupon stacking rules (mutually exclusive conditions) — **with validation**\n",
        "\n",
        "**Prompt**\n",
        "- Ask for **cart_total** (float, **>= 0**), **coupon10** (`\"y\"/\"n\"`), **coupon15** (`\"y\"/\"n\"`). Normalize options.\n",
        "\n",
        "**Rules**\n",
        "- If both coupons are `\"y\"` → print `\"Invalid: cannot stack\"`.\n",
        "- Else if only `coupon15 == \"y\"` **and** `cart_total >= 80` → `\"15% applied\"`.\n",
        "- Else if only `coupon10 == \"y\"` **and** `cart_total >= 50` → `\"10% applied\"`.\n",
        "- Else → `\"No discount\"`.\n",
        "\n",
        "**Requirements**\n",
        "- Validate input:\n",
        "  - Non-numeric total → handle with `except ValueError`.\n",
        "  - If `cart_total < 0` → `raise ValueError(\"cart_total must be >= 0.\")` and handle it.\n",
        "  - If any coupon option not `y/n` → `raise ValueError(\"expected y/n\")` and handle it.\n"
      ]
    },
    {
      "cell_type": "code",
      "execution_count": null,
      "id": "75e8c4e6",
      "metadata": {
        "colab": {
          "base_uri": "https://localhost:8080/"
        },
        "id": "75e8c4e6",
        "outputId": "34ae5866-0227-46cb-b76c-c3ee1560f384"
      },
      "outputs": [
        {
          "output_type": "stream",
          "name": "stdout",
          "text": [
            "What is your cart total? 80\n",
            "Do you have a coupon10? (y/n) y\n",
            "Do you have a coupon15? (y/n) n\n",
            "10% applied\n"
          ]
        }
      ],
      "source": [
        "\n",
        "# YOUR CODE HERE\n",
        "# Implement: read/validate; apply rules; print exactly one of the specified outputs.\n",
        "# Use try/raise/except with ValueError as specified.\n",
        "\n",
        "# Write code below:\n",
        "\n",
        "\n",
        "try:\n",
        "  cart_total= float(input(\"What is your cart total? \"))\n",
        "  if cart_total < 0:\n",
        "    raise ValueError(\"cart_total must be >= 0.\")\n",
        "  coupon10= input(\"Do you have a coupon10? (y/n) \").strip().lower()\n",
        "  if coupon10 not in ('y','n'):\n",
        "    raise ValueError(\"expected y/n\")\n",
        "  coupon15= input(\"Do you have a coupon15? (y/n) \").strip().lower()\n",
        "  if coupon15 not in ('y','n'):\n",
        "    raise ValueError(\"expected y/n\")\n",
        "  if coupon10 == 'y' and coupon15 == 'y':\n",
        "    print(\"Invalid: cannot stack\")\n",
        "  elif coupon15 == 'y' and cart_total >= 80:\n",
        "    print(\"15% applied\")\n",
        "  elif coupon10== 'y' and cart_total >= 50:\n",
        "    print(\"10% applied\")\n",
        "  else:\n",
        "    print(\"No discount\")\n",
        "except ValueError:\n",
        "  print(\"Invalid input- please enter a numeric number.\")\n",
        "  #return- doesn't work because as per instructions it's not in a function and exit doesn't work in colab"
      ]
    },
    {
      "cell_type": "markdown",
      "id": "6862f2be",
      "metadata": {
        "id": "6862f2be"
      },
      "source": [
        "\n",
        "## 5) ID policy — De Morgan practice (`or` and `not`) — **with validation**\n",
        "\n",
        "**Prompt**\n",
        "- Ask for **has_photo_id** (`\"y\"/\"n\"`) and **has_student_card** (`\"y\"/\"n\"`). Normalize options.\n",
        "\n",
        "**Rule**\n",
        "- Entry is permitted if the person has **photo ID** **or** has a **student card**.\n",
        "\n",
        "**Requirements**\n",
        "- Validate inputs:\n",
        "  - If either input is not `y/n` → `raise ValueError(\"expected y/n\")` and handle it.\n",
        "- Implement **two checks** (print both results on separate lines):\n",
        "  1) Using `or` directly (`\"Entry permitted\"` / `\"Entry denied\"`).  \n",
        "  2) Using `not` with De Morgan’s law to express the same rule.\n",
        "- Both lines of output should match.\n"
      ]
    },
    {
      "cell_type": "code",
      "execution_count": 22,
      "id": "54e0b13e",
      "metadata": {
        "colab": {
          "base_uri": "https://localhost:8080/"
        },
        "id": "54e0b13e",
        "outputId": "34069315-6bae-45d6-ced2-ca6e8ae7d800"
      },
      "outputs": [
        {
          "output_type": "stream",
          "name": "stdout",
          "text": [
            "Do you have a photo id? (y/n) y\n",
            "Do you have a student card? (y/n) y\n",
            "Entry permitted\n",
            "Entry permitted\n"
          ]
        }
      ],
      "source": [
        "\n",
        "# YOUR CODE HERE\n",
        "# Implement: read/validate; print result twice:\n",
        "# (1) direct OR version; (2) logically equivalent NOT/De Morgan version.\n",
        "# Use try/raise/except with ValueError as specified.\n",
        "\n",
        "# Write code below:\n",
        "\n",
        "\n",
        "\n",
        "has_photo_id= input(\"Do you have a photo id? (y/n) \").strip().lower()\n",
        "if has_photo_id not in ('y','n'):\n",
        "  raise ValueError(\"expected y/n\")\n",
        "has_student_card= input(\"Do you have a student card? (y/n) \").strip().lower()\n",
        "if has_student_card not in ('y','n'):\n",
        "  raise ValueError(\"expected y/n\")\n",
        "if has_photo_id == 'y' or has_student_card == 'y':\n",
        "  print(\"Entry permitted\")\n",
        "if not (has_photo_id == 'n' or has_student_card == 'n'):\n",
        "  print(\"Entry permitted\")\n",
        "if has_photo_id == 'n' and has_student_card == 'n':\n",
        "  print(\"Entry denied\")\n",
        "if has_photo_id == 'n' and has_student_card == 'n':\n",
        "  print(\"Entry denied\")\n",
        "\n"
      ]
    },
    {
      "cell_type": "markdown",
      "id": "04442209",
      "metadata": {
        "id": "04442209"
      },
      "source": [
        "\n",
        "---\n",
        "\n",
        "### Submission Notes\n",
        "- Leave all outputs visible.\n",
        "- If you re-run a cell, it will re-prompt; that's fine.\n",
        "- Make sure your error messages match the prompts where specified.\n"
      ]
    }
  ],
  "metadata": {
    "kernelspec": {
      "display_name": "Python 3",
      "language": "python",
      "name": "python3"
    },
    "language_info": {
      "name": "python",
      "version": "3.x"
    },
    "colab": {
      "provenance": [],
      "include_colab_link": true
    }
  },
  "nbformat": 4,
  "nbformat_minor": 5
}