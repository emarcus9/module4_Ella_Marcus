{
  "cells": [
    {
      "cell_type": "markdown",
      "id": "a1bf34cd",
      "metadata": {
        "id": "a1bf34cd"
      },
      "source": [
        "\n",
        "# [PEP 8](https://peps.python.org/pep-0008/#programming-recommendations) Style: Practice & Reflection (Loops • Decisions • Functions)\n",
        "\n",
        "**Name:** _Your Name Here_  \n",
        "**Course / Section:** _e.g., Programming I_  \n",
        "**Date:** _YYYY-MM-DD_\n",
        "\n",
        "**Learning goals**\n",
        "- Apply core [**PEP 8**](https://peps.python.org/pep-0008/#programming-recommendations) conventions to real code you write.\n",
        "- Practice writing **loops** and **decision structures** in a clean, readable style.\n",
        "- Use **functions** with clear names, docstrings, and (optional) type hints.\n",
        "- Reflect on *why* style matters and how it improves readability and collaboration.\n",
        "\n",
        "> ⚠️ **Honor Code:** Write your own explanations. You may discuss high-level ideas, but do not copy another student's text.\n"
      ]
    },
    {
      "cell_type": "markdown",
      "id": "c042d5df",
      "metadata": {
        "id": "c042d5df"
      },
      "source": [
        "\n",
        "## Part 0 — Reading Plan (15–20 min)\n",
        "\n",
        "[PEP 8](https://peps.python.org/pep-0008/#programming-recommendations) is the programatic style convention for coding in Python 3.\n",
        "It shows you exactly how to indent, how to skip lines between functions and code blocks, how to name variables, etc.\n",
        "\n",
        "NOTE : every language has their own programming conventions, PEP 8 is specific to Python 3\n",
        "\n",
        "In this assignment,  would like you to skim **the whole PEP 8** to see its scope, but **focus carefully** on these sections for today:\n",
        "1. **Code lay-out / Indentation**\n",
        "2. **Maximum line length** (and when/why to break lines)\n",
        "3. **Blank lines**\n",
        "4. **Imports** (high level awareness only)\n",
        "5. **Whitespace in expressions and statements** (e.g., around `=`, `+`, `,`)\n",
        "6. **Naming Conventions** (variables, functions) — avoid single letters unless obvious\n",
        "7. **Comments & Docstrings** (write what/why, not obvious how)\n",
        "8. **Programming Recommendations** (truthiness, `if cond is None`, etc.)\n",
        "\n",
        "> Suggested links (search \"PEP 8\" if needed): Python's official PEP 8, plus the \"pep8.org\" companion site.\n"
      ]
    },
    {
      "cell_type": "markdown",
      "id": "33067ffb",
      "metadata": {
        "id": "33067ffb"
      },
      "source": [
        "\n",
        "## Part 1 — Short Reflection (8–10 sentences total)\n",
        "\n",
        "Answer in **complete sentences** in the cell below.\n",
        "\n",
        "1. Which **three** PEP 8 rules will most improve your code *right now* and **why**?  \n",
        "2. Show a **small code snippet** (5–8 lines) you wrote previously and explain **two** changes you would make to align it with PEP 8.  \n",
        "3. When is it **reasonable to break PEP 8**, and how would you document that decision for teammates?  \n",
        "4. What PEP 8 rule did you **disagree with or find surprising**, and why?\n",
        "\n",
        "> Tip: You can insert code fences in Markdown using triple backticks.\n"
      ]
    },
    {
      "cell_type": "markdown",
      "id": "f4627a58",
      "metadata": {
        "id": "f4627a58"
      },
      "source": [
        "\n",
        "\n",
        "1. a. Limiting the try clause to the minimum amount of code necassary will help to get rid of possible bugs. This would help my code as we focus on including many try and except blocks now in our code. b. Being consistent in return statements- either they all return no value and then you can just write return, or if one returns a value then another one returning no value should say return None. This will be useful for me because until now to exit a program after an error I have been returning no value by just writing return but now I'll write return None. c. To not compare boolean values to True or False using ==. I think that many times I probablly wrote- ex:\n",
        "```\n",
        "if cafe == True:\n",
        "```\n",
        " instead of doing:\n",
        "```\n",
        "if cafe:\n",
        "```\n",
        "Now I know the correct way of doing this.\n",
        "\n",
        "2.\n",
        "```\n",
        "    #name of function\n",
        "def minutes_to_hours_and_minutes():\n",
        "    minutes= int(input(\"How many minutes would you like to calculate?\n",
        "\")) #asking user how many minutes, entry minutes by user, converted to integer for math usage\n",
        "    hours= minutes//60 #entry minutes divided by 60 to get the amount of hours without remainder minutes\n",
        "    minutes= minutes%60 #entry minutes divided by 60 to find remainder to find how many minutes\n",
        "    #print on page the amount of hours and minutes calculated\n",
        "    print(\"The amount of hours calculated are\", hours, \"and the amount of remainder minutes calculated are\", minutes)\n",
        "\n",
        "minutes_to_hours_and_minutes()\n",
        "```\n",
        "\n",
        "2 changes I would make:\n",
        "a. I would add a docstring explaining what the function does.\n",
        "b. I would format the equal sign properly for spacing- add an extra space before the equal.\n",
        "\n",
        "\n",
        "3. It would be reasonable to break PEP 8 if it would make reading and clarity of the code easier- for example if you have a line longer than 79 characters and if you would break it up it would be too confusing- then it's reasonable to break pep 8. To tell teamates about it you should document it with comments.\n",
        "\n",
        "4. I found surprising that in parameters and arguments PEP 8 requires no spacing after the equal sign. This was surprising for me because usually PEP 8 does require spacing as it makes it easier to read.\n",
        "\n",
        "\n"
      ]
    },
    {
      "cell_type": "markdown",
      "id": "c5353b09",
      "metadata": {
        "id": "c5353b09"
      },
      "source": [
        "\n",
        "## Part 2 — Style Demonstrations (do, explain, and annotate)\n",
        "\n",
        "For each item below:\n",
        "- Write the **clean** version following PEP 8.\n",
        "- Add a one-sentence **explanation**: what rule did you apply and why?\n"
      ]
    },
    {
      "cell_type": "markdown",
      "id": "1b2f975b",
      "metadata": {
        "id": "1b2f975b"
      },
      "source": [
        "\n",
        "### 2A. Naming: variables & functions\n",
        "Bad → Fix it. Then explain the rules you applied.\n"
      ]
    },
    {
      "cell_type": "code",
      "execution_count": null,
      "id": "b5d35183",
      "metadata": {
        "id": "b5d35183"
      },
      "outputs": [],
      "source": [
        "\n",
        "# ❌ Bad\n",
        "X=10\n",
        "def DO(x):return x*X\n",
        "\n",
        "# ✅ Good (rewrite below)\n",
        "# Your improved version:\n",
        "def multiply_by_global(multiplier: int) -> int:\n",
        "    \"\"\"Return multiplier times the module-level constant SCALE.\"\"\"\n",
        "    SCALE = 10  # prefer UPPERCASE for constants at module level; here local for demo\n",
        "    result = multiplier * SCALE\n",
        "    return result\n",
        "\n",
        "# Explanation (Markdown in the next cell):\n"
      ]
    },
    {
      "cell_type": "markdown",
      "id": "cb2a146a",
      "metadata": {
        "id": "cb2a146a"
      },
      "source": [
        "\n",
        "**Explain:** Which PEP 8 naming rules did you apply? Why is `SCALE` capitalized? Why is the function name lowercase with underscores?\n"
      ]
    },
    {
      "cell_type": "markdown",
      "source": [
        "SCALE is capitalized because it's recommended to use uppercase for constants at module levels. The function name is lowercase with underscores because to increase readability PEP 8 rules say to do this. More rules applied here= whitespace added, put the function logic on the next line for proper layout, added comments, took away x as function name."
      ],
      "metadata": {
        "id": "oZ4_WvLC7D1j"
      },
      "id": "oZ4_WvLC7D1j"
    },
    {
      "cell_type": "markdown",
      "id": "ad75d9fb",
      "metadata": {
        "id": "ad75d9fb"
      },
      "source": [
        "\n",
        "### 2B. Indentation & Maximum Line Length\n",
        "Refactor the following to avoid long lines and to align arguments clearly.\n"
      ]
    },
    {
      "cell_type": "code",
      "execution_count": null,
      "id": "a3d88833",
      "metadata": {
        "id": "a3d88833"
      },
      "outputs": [],
      "source": [
        "\n",
        "# ❌ Bad: crammed call, hard to read\n",
        "def compute(a,b,c,d,e,f,g,h,i): return (a+b)*(c+d)-(e/f)+g-h+i\n",
        "val=compute(1,2,3,4,5,6,7,8,9)\n",
        "\n",
        "# ✅ Good: rewrite below with line breaks and sensible parameter names\n",
        "def compute_sum_diff_ratio(\n",
        "    alpha: int,\n",
        "    beta: int,\n",
        "    gamma: int,\n",
        "    delta: int,\n",
        "    epsilon: int,\n",
        "    zeta: int,\n",
        "    eta: int,\n",
        "    theta: int,\n",
        "    iota: int,\n",
        ") -> float:\n",
        "    \"\"\"Sample function to demonstrate readable formatting and line length.\"\"\"\n",
        "    return (alpha + beta) * (gamma + delta) - (epsilon / zeta) + eta - theta + iota\n",
        "\n",
        "val = compute_sum_diff_ratio(\n",
        "    alpha=1, beta=2, gamma=3, delta=4, epsilon=5, zeta=6, eta=7, theta=8, iota=9\n",
        ")\n",
        "\n",
        "print(val)\n"
      ]
    },
    {
      "cell_type": "markdown",
      "id": "cedf9bca",
      "metadata": {
        "id": "cedf9bca"
      },
      "source": [
        "\n",
        "**Explain:** How did you keep lines ≤ 79–99 chars? Why are keyword arguments used? What indentation style did you use for parameters?\n"
      ]
    },
    {
      "cell_type": "markdown",
      "source": [
        "I kept the characters ≤ 79–99 chars by putting all the parameters on their own lines. Keyword arguments are used because there are so many arguments that it can get confusing and mess up. Keyword arguments make it more readable and makes it that order doesn't matter. Indentation style= vertical indentation with each parameter on its own line underneath the opening parenthesis"
      ],
      "metadata": {
        "id": "6Qv2f-Zp-SVK"
      },
      "id": "6Qv2f-Zp-SVK"
    },
    {
      "cell_type": "markdown",
      "id": "d022bb43",
      "metadata": {
        "id": "d022bb43"
      },
      "source": [
        "### 2C. Whitespace in expressions & statements\n",
        "Fix spacing around operators, commas, and after `#` in comments.\n"
      ]
    },
    {
      "cell_type": "code",
      "execution_count": null,
      "id": "02a9d532",
      "metadata": {
        "id": "02a9d532"
      },
      "outputs": [],
      "source": [
        "\n",
        "# ❌ Bad\n",
        "x= 1+2\n",
        "my_list=[1 ,2,3 ,4]\n",
        "for i  in  range( 0,10 ):#bad\n",
        "    if(i%2==0):print(i,end=',')\n",
        "\n",
        "# ✅ Good (rewrite below)\n",
        "x = 1 + 2\n",
        "my_list = [1, 2, 3, 4]\n",
        "for i in range(0, 10):  # good: space after '#', single spaces around keywords/operators\n",
        "    if i % 2 == 0:\n",
        "        print(i, end=\",\")\n"
      ]
    },
    {
      "cell_type": "markdown",
      "id": "4a03e87f",
      "metadata": {
        "id": "4a03e87f"
      },
      "source": [
        "\n",
        "### 2D. Comments & Docstrings\n",
        "Add a **docstring** and **useful** comments (explain *why*, not the obvious *how*).\n",
        "\n",
        "NOTE your professor expects notation:\n",
        "\n",
        "1.   on each line of logic with #\n",
        "2.   each variable name\n",
        "3.   each function, class and method (we have not studied yet classes and methods) docstring \"\"\"\n",
        "4.   each program at the top with docstring \"\"\" which includes :\n",
        "5.   Your name\n",
        "6.   Purpose of program (we will add to this over time)\n",
        "7.   Date\n",
        "\n",
        "\n",
        "\n",
        "\n",
        "\n"
      ]
    },
    {
      "cell_type": "code",
      "execution_count": null,
      "id": "726bdccb",
      "metadata": {
        "id": "726bdccb"
      },
      "outputs": [],
      "source": [
        "\n",
        "def count_evens(nums):\n",
        "    \"\"\"Return the number of even integers in `nums`.\n",
        "\n",
        "    We check `n % 2 == 0` to classify even values.\n",
        "    \"\"\"\n",
        "    # Iterate once over the list for O(n) time.\n",
        "    count = 0\n",
        "    for n in nums:\n",
        "        if n % 2 == 0:\n",
        "            count += 1\n",
        "    return count\n",
        "\n",
        "# Test\n",
        "count_evens([1,2,3,4,5,6])\n"
      ]
    },
    {
      "cell_type": "markdown",
      "id": "f6533ef0",
      "metadata": {
        "id": "f6533ef0"
      },
      "source": [
        "\n",
        "**Explain:** What is the role of a docstring? How did you keep comments helpful (describing *why* vs restating the code)?\n"
      ]
    },
    {
      "cell_type": "markdown",
      "source": [
        "A docstring explains what a function does and explains inputs and outputs making it more easy to understand the code. By describing why instead of how we learn why a dunction is implemented. It already says  how in the code so we don't need a repeat of this, why explains more to to reader about why we need the function."
      ],
      "metadata": {
        "id": "5gGYxvuCAijh"
      },
      "id": "5gGYxvuCAijh"
    },
    {
      "cell_type": "markdown",
      "id": "20de23d7",
      "metadata": {
        "id": "20de23d7"
      },
      "source": [
        "\n",
        "### 2E. Programming Recommendations (truthiness, `is None`)\n",
        "\n",
        "Here you can see the code written poorly and correctly, with PEP 8  recommendations.\n"
      ]
    },
    {
      "cell_type": "code",
      "execution_count": null,
      "id": "e82cac63",
      "metadata": {
        "id": "e82cac63"
      },
      "outputs": [],
      "source": [
        "\n",
        "# ❌ Bad\n",
        "def pick_message(msg):\n",
        "    if msg == None or msg == \"\":\n",
        "        return \"empty\"\n",
        "    if len(msg) == 0:\n",
        "        return \"empty\"\n",
        "    return msg\n",
        "\n",
        "# ✅ Good\n",
        "def pick_message(msg: str | None) :\n",
        "    if msg is None or msg == \"\":\n",
        "        return \"empty\"\n",
        "    return msg\n"
      ]
    },
    {
      "cell_type": "markdown",
      "id": "8063a974",
      "metadata": {
        "id": "8063a974"
      },
      "source": [
        "# 2 E question\n",
        "** >>>>> [link text](https://)Explain:** Why `is None` preferred over `== None`? When is truthiness (`if not msg`) appropriate, and when is it ambiguous?\n"
      ]
    },
    {
      "cell_type": "markdown",
      "source": [
        "Is None is preferred over == None because == checks the equality while the is None is checking the identity which is more precise. To check if a value is missing it's ok to use (if not msg) but when you want to catch a specific false value and not just put them all into one category- then it's too ambiguous."
      ],
      "metadata": {
        "id": "m7LxQGw7BpOm"
      },
      "id": "m7LxQGw7BpOm"
    },
    {
      "cell_type": "markdown",
      "id": "7ef944ee",
      "metadata": {
        "id": "7ef944ee"
      },
      "source": [
        "\n",
        "## Part 3 — loops + decisions\n",
        "\n",
        "**Demonstrated :** Clean up the code below to follow PEP 8 and improve readability. Keep the **same behavior**.\n",
        "\n",
        "Steps:\n",
        "1. Reformat for line length, naming, whitespace, and indentation.\n",
        "2. Extract helper functions with docstrings where it clarifies intent.\n",
        "3. Add 1–2 **assert-based tests** to show behavior is unchanged.\n",
        "\n",
        "Question : What is the difference between these two approaches, and how does it affect readability ?\n"
      ]
    },
    {
      "cell_type": "markdown",
      "source": [
        "It added smaller helper functions to make the function easier to understand and read. Other differences:\n",
        "\n",
        "*   switched while to for loop for clarity\n",
        "*   Function is properly named- not with just one letter- so it makes it easier to read and understand.\n",
        "*   descriptive variable names- easier to understand\n",
        "*   docstrings- so we know what the function is for\n",
        "*   proper spacing- as per PEP 8 requirements so its easier to read\n",
        "*   proper indenting- easier to understand\n",
        "\n",
        "\n",
        "\n"
      ],
      "metadata": {
        "id": "ne1hgqflovEj"
      },
      "id": "ne1hgqflovEj"
    },
    {
      "cell_type": "code",
      "execution_count": null,
      "id": "0add1ac7",
      "metadata": {
        "id": "0add1ac7"
      },
      "outputs": [],
      "source": [
        "\n",
        "# ❌ Original (intentionally messy)\n",
        "def F(LIM):\n",
        "  s=0; i=0\n",
        "  while(i<LIM):\n",
        "     if(i%3==0 and i%5==0): s+=i\n",
        "     elif(i%3==0): s+=i\n",
        "     elif(i%5==0): s+=i\n",
        "     i=i+1\n",
        "  print(\"SUM:\",s)\n",
        "\n",
        "F(30)\n"
      ]
    },
    {
      "cell_type": "code",
      "execution_count": null,
      "id": "7659a485",
      "metadata": {
        "id": "7659a485"
      },
      "outputs": [],
      "source": [
        "\n",
        "# ✅ Your cleaned version (example solution shown)\n",
        "def is_multiple_of_3_or_5(n: int) -> bool:\n",
        "    \"\"\"Return True if n is a multiple of 3 or 5.\"\"\"\n",
        "    return (n % 3 == 0) or (n % 5 == 0)\n",
        "\n",
        "\n",
        "def sum_multiples(limit: int) -> int:\n",
        "    \"\"\"Return the sum of numbers in [0, limit) that are multiples of 3 or 5.\"\"\"\n",
        "    total = 0\n",
        "    for i in range(limit):\n",
        "        if is_multiple_of_3_or_5(i):\n",
        "            total += i\n",
        "    return total\n",
        "\n",
        "\n",
        "def main() -> None:\n",
        "    print(\"SUM:\", sum_multiples(30))\n",
        "\n",
        "\n",
        "# quick checks\n",
        "assert sum_multiples(10) == 23\n",
        "main()\n"
      ]
    },
    {
      "cell_type": "markdown",
      "source": [
        "## Part 4 : A study : How blank lines must be used in your code\n",
        "Observe : 2 blank lines before def multiply and def main.\n",
        "\n",
        "1 blank line between calculating total and product inside main (separates blocks).\n",
        "\n",
        "1 blank line before the if __name__ == \"__main__\": guard.\n",
        "\n",
        "### Question : insert a code block from assignment PA 1 Cafe, and show how it should be reformatted (before and after formatting). Explain what differences you have made, if any"
      ],
      "metadata": {
        "id": "KQrmuCv-7wms"
      },
      "id": "KQrmuCv-7wms"
    },
    {
      "cell_type": "code",
      "source": [
        "#BEFORE\n",
        "#formatting the number output\n",
        "def format_currency(total):\n",
        "    return (f\"${total:.2f}\")#adds a $ and formats the floats to two decimal places\n",
        "\n",
        "#total cost of items\n",
        "def line_total(quantity, cost):\n",
        "    return float(quantity * cost)#multiplies cost of item by quantity\n",
        "\n",
        "#using a tuple to get amount of tax, tip, and complete total\n",
        "def compute_totals(subtotal, tax_rate, q_tip):\n",
        "    tax= tax_rate * subtotal #amount of $tax owed\n",
        "    tip= q_tip / 100 * subtotal #amount of $tip owed\n",
        "    total= tax + tip + subtotal #complete total- subtotal + tip + tax\n",
        "    return tax, tip, total\n",
        "\n",
        "\n",
        "#AFTER\n",
        "def format_currency(total):\n",
        "    \"\"\"Format total as currency with $ and two decimal places.\"\"\"\n",
        "    return f\"${total:.2f}\"# adds a $ and formats the floats to two decimal places\n",
        "\n",
        "\n",
        "def line_total(quantity, cost):\n",
        "    \"\"\"Calculates total cost by multiplying quantity and cost.\"\"\"\n",
        "    return float(quantity * cost)# multiplies cost of item by quantity\n",
        "\n",
        "\n",
        "def compute_totals(subtotal, tax_rate, q_tip):\n",
        "    \"\"\"Compute tax, tip, and total amount based on subtotal, tax_rate, and q_tip.\"\"\"\n",
        "    tax = tax_rate * subtotal # amount of $tax owed\n",
        "    tip = q_tip / 100 * subtotal # amount of $tip owed\n",
        "    total = tax + tip + subtotal # complete total- subtotal + tip + tax\n",
        "    return tax, tip, total"
      ],
      "metadata": {
        "id": "USDju47MDQI_"
      },
      "id": "USDju47MDQI_",
      "execution_count": null,
      "outputs": []
    },
    {
      "cell_type": "markdown",
      "source": [
        "Differences:\n",
        "\n",
        "*   added space after each # for comments\n",
        "*   added two blank lines beofre each function\n",
        "*   added docstrings describing function purpose\n",
        "*   added spaces around =\n",
        "\n",
        "\n",
        "\n",
        "\n",
        "\n"
      ],
      "metadata": {
        "id": "TDO-JlUZD1jn"
      },
      "id": "TDO-JlUZD1jn"
    },
    {
      "cell_type": "code",
      "source": [
        "# ❌ Bad: no spaces, everything crammed\n",
        "def add(x,y):\n",
        "    return x+y\n",
        "def multiply(x,y):\n",
        "    return x*y\n",
        "def main():\n",
        "    total=add(2,3)\n",
        "    product=multiply(2,3)\n",
        "    if total>product:\n",
        "        print(\"Sum is larger\")\n",
        "    else:\n",
        "        print(\"Product is larger\")\n",
        "main()\n"
      ],
      "metadata": {
        "id": "gUvYlTtV79Gp"
      },
      "id": "gUvYlTtV79Gp",
      "execution_count": null,
      "outputs": []
    },
    {
      "cell_type": "code",
      "source": [
        "# ✅ Good: proper spacing\n",
        "def add(x: int, y: int) -> int:\n",
        "    \"\"\"Return the sum of x and y.\"\"\"\n",
        "    return x + y\n",
        "\n",
        "\n",
        "def multiply(x: int, y: int) -> int:\n",
        "    \"\"\"Return the product of x and y.\"\"\"\n",
        "    return x * y\n",
        "\n",
        "\n",
        "def main() -> None:\n",
        "    \"\"\"Compare sum vs product of two numbers.\"\"\"\n",
        "    total = add(2, 3)\n",
        "\n",
        "    # Separate logical blocks with one blank line\n",
        "    product = multiply(2, 3)\n",
        "\n",
        "    if total > product:\n",
        "        print(\"Sum is larger\")\n",
        "    else:\n",
        "        print(\"Product is larger\")\n",
        "\n",
        "\n",
        "# Separate main execution from definitions\n",
        "if __name__ == \"__main__\":\n",
        "    main()\n"
      ],
      "metadata": {
        "id": "_0MKdTlM8A4H"
      },
      "id": "_0MKdTlM8A4H",
      "execution_count": null,
      "outputs": []
    },
    {
      "cell_type": "code",
      "source": [],
      "metadata": {
        "id": "-s-ul0m37wRp"
      },
      "id": "-s-ul0m37wRp",
      "execution_count": null,
      "outputs": []
    },
    {
      "cell_type": "markdown",
      "id": "f264ed62",
      "metadata": {
        "id": "f264ed62"
      },
      "source": [
        "\n",
        "## Submission Checklist\n",
        "\n",
        "- [ ] I followed PEP 8 for naming, whitespace, docstrings, and line length.\n",
        "- [ ] I wrote clear explanations where requested.\n",
        "- [ ] My code passes my `assert` tests without errors.\n",
        "- [ ] I ran all cells (`Kernel → Restart & Run All`) before submitting.\n"
      ]
    },
    {
      "cell_type": "markdown",
      "id": "d8cd9eeb",
      "metadata": {
        "id": "d8cd9eeb"
      },
      "source": [
        "\n",
        "## Grading Rubric (20 pts)\n",
        "\n",
        "| Criterion | Points |\n",
        "|---|---:|\n",
        "| Reflection quality (insightful, specific, complete) | 4 |\n",
        "| 2A–2E demonstrations (correct style + explanation) | 6 |\n",
        "| Fix‑It workshop: readability + correctness + tests | 5 |\n",
        "| Clean code task: function, style, and tests | 5 |\n",
        "\n",
        "**Style penalties** (up to −3 total): inconsistent naming, poor spacing, missing/weak docstrings, >99 char lines without good reason.\n"
      ]
    }
  ],
  "metadata": {
    "colab": {
      "provenance": []
    }
  },
  "nbformat": 4,
  "nbformat_minor": 5
}