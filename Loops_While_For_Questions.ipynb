{
  "cells": [
    {
      "cell_type": "markdown",
      "id": "7d25b115",
      "metadata": {
        "id": "7d25b115"
      },
      "source": [
        "\n",
        "# While & For Mastery — Syntax, Patterns, and Programs\n",
        "\n",
        "**Name:** _Your Name_  \n",
        "**Course:** _Programming I_  \n",
        "**Date:** _YYYY-MM-DD_\n",
        "\n",
        "**Learning goals**\n",
        "- Reintroduce the **syntax** and core **patterns** for `while` and `for` loops.\n",
        "- Use loops with **decision structures** (`if/elif/else`) and **`try/except`** for input validation.\n",
        "- Write non-trivial programs that require **reasoning**, not just template filling.\n",
        "- Practice **PEP 8** style: naming, whitespace, docstrings, and helpful comments. - SO PLEASE DO PEP 8 ASSIGNMENT FIRST\n",
        "\n",
        "\n",
        "**IDE usage**\n",
        "- Feel free to work within an IDE (PyCharm or IDLE) if you feel more comfortable, copying and pasting the answers here"
      ]
    },
    {
      "cell_type": "markdown",
      "source": [],
      "metadata": {
        "id": "co4zaM_oHdBi"
      },
      "id": "co4zaM_oHdBi"
    },
    {
      "cell_type": "markdown",
      "id": "02124153",
      "metadata": {
        "id": "02124153"
      },
      "source": [
        "\n",
        "## Part 0 — Quick Reference (Read & Run)\n",
        "\n",
        "### `for` loop (iterate over a sequence)\n",
        "```python\n",
        "for item in iterable:\n",
        "    # do something with item\n",
        "```\n",
        "\n",
        "### `while` loop (repeat until a condition changes)\n",
        "```python\n",
        "while condition:\n",
        "    # body\n",
        "```\n",
        "\n",
        "### Useful keywords\n",
        "- `break` — exit the nearest loop immediately  \n",
        "- `continue` — skip to next iteration  \n",
        "- `else` on loops — runs if the loop **didn't** `break`\n"
      ]
    },
    {
      "cell_type": "markdown",
      "id": "884708c5",
      "metadata": {
        "id": "884708c5"
      },
      "source": [
        "\n",
        "## Demo 1 — `for` Loop Fundamentals\n",
        "- Iterating lists/strings\n",
        "- Using `range(start, stop, step)`\n",
        "- Tracking indices with `enumerate`\n"
      ]
    },
    {
      "cell_type": "code",
      "execution_count": null,
      "id": "a9210b06",
      "metadata": {
        "id": "a9210b06",
        "outputId": "66f8411a-ff77-4bed-b3eb-73bd5e0e48f4",
        "colab": {
          "base_uri": "https://localhost:8080/"
        }
      },
      "outputs": [
        {
          "output_type": "stream",
          "name": "stdout",
          "text": [
            "KOL\n",
            "NIDRE\n",
            "TEFILAH\n",
            "---\n",
            "2 4 6 8 10 \n",
            "---\n",
            "0: kol\n",
            "1: nidre\n",
            "2: tefilah\n"
          ]
        }
      ],
      "source": [
        "\n",
        "words = [\"kol\", \"nidre\", \"tefilah\"]\n",
        "\n",
        "# Basic iteration\n",
        "for w in words:\n",
        "    print(w.upper())\n",
        "\n",
        "print(\"---\")\n",
        "\n",
        "# Ranges\n",
        "for k in range(2, 11, 2):\n",
        "    print(k, end=\" \")\n",
        "print(\"\\n---\")\n",
        "\n",
        "# Enumerate for index + value\n",
        "for i, w in enumerate(words):\n",
        "    print(f\"{i}: {w}\")\n"
      ]
    },
    {
      "cell_type": "markdown",
      "id": "872c060a",
      "metadata": {
        "id": "872c060a"
      },
      "source": [
        "\n",
        "## Demo 2 — `while` Loop Fundamentals\n",
        "- Sentinel loops (stop when user types `done`)\n",
        "- Guarded updates to prevent infinite loops\n"
      ]
    },
    {
      "cell_type": "code",
      "execution_count": null,
      "id": "a16ab540",
      "metadata": {
        "id": "a16ab540",
        "outputId": "a16796f2-c33f-4043-c293-7c712eba68d7",
        "colab": {
          "base_uri": "https://localhost:8080/"
        }
      },
      "outputs": [
        {
          "output_type": "stream",
          "name": "stdout",
          "text": [
            "Enter a number (or 'done'): 3\n",
            "Enter a number (or 'done'): 2\n",
            "Enter a number (or 'done'): 4\n",
            "Enter a number (or 'done'): 67\n",
            "Enter a number (or 'done'): done\n",
            "Average: 19.0\n"
          ]
        }
      ],
      "source": [
        "\n",
        "# Sentinel-controlled input loop\n",
        "# Type numbers; type 'done' to stop. We sum only valid numbers.\n",
        "total = 0.0\n",
        "count = 0\n",
        "\n",
        "while True:\n",
        "    raw = input(\"Enter a number (or 'done'): \").strip().lower()\n",
        "    if raw == \"done\":\n",
        "        break\n",
        "    try:\n",
        "        num = float(raw)\n",
        "    except ValueError:\n",
        "        print(\"Not a number — try again.\")\n",
        "        continue\n",
        "    total += num\n",
        "    count += 1\n",
        "\n",
        "if count > 0:\n",
        "    print(\"Average:\", total / count)\n",
        "else:\n",
        "    print(\"No numbers entered.\")\n"
      ]
    },
    {
      "cell_type": "markdown",
      "id": "4f729477",
      "metadata": {
        "id": "4f729477"
      },
      "source": [
        "\n",
        "## Demo 3 — Try/Except + Decisions in Loops\n",
        "- Validate input in a loop\n",
        "- Use `if/elif/else` for branching behavior\n"
      ]
    },
    {
      "cell_type": "code",
      "execution_count": null,
      "id": "ef5f1557",
      "metadata": {
        "id": "ef5f1557",
        "outputId": "3d371846-4c57-44b0-d974-135c5f6c446c",
        "colab": {
          "base_uri": "https://localhost:8080/"
        }
      },
      "outputs": [
        {
          "output_type": "stream",
          "name": "stdout",
          "text": [
            "Pick an integer from 1 to 10: 56\n",
            "Out of range.\n",
            "Pick an integer from 1 to 10: 56\n",
            "Out of range.\n",
            "Pick an integer from 1 to 10: 56\n",
            "Out of range.\n",
            "No valid choice made. Exiting.\n"
          ]
        }
      ],
      "source": [
        "\n",
        "# Ask for an integer 1..10 with limited attempts.\n",
        "MAX_ATTEMPTS = 3\n",
        "attempts = 0\n",
        "value = None\n",
        "\n",
        "while attempts < MAX_ATTEMPTS:\n",
        "    try:\n",
        "        guess = int(input(\"Pick an integer from 1 to 10: \"))\n",
        "    except ValueError:\n",
        "        print(\"Please enter an integer.\")\n",
        "        attempts += 1\n",
        "        continue\n",
        "\n",
        "    if 1 <= guess <= 10:\n",
        "        value = guess\n",
        "        print(\"Thanks! You chose:\", value)\n",
        "        break\n",
        "    else:\n",
        "        print(\"Out of range.\")\n",
        "        attempts += 1\n",
        "\n",
        "if value is None:\n",
        "    print(\"No valid choice made. Exiting.\")\n"
      ]
    },
    {
      "cell_type": "markdown",
      "id": "4a3c313f",
      "metadata": {
        "id": "4a3c313f"
      },
      "source": [
        "\n",
        "## Patterns & Pitfalls\n",
        "- Prefer `for` for known collections/ranges; `while` for open-ended/state-driven loops.\n",
        "- Always **advance the loop state** in a `while` (avoid infinite loops).\n",
        "- Use **sentinels** like `'done'` to end user input.\n",
        "- Extract **helpers** with docstrings for single-purpose blocks.\n",
        "- Keep lines ≤ 79–99 characters and space around operators appropriately.\n"
      ]
    },
    {
      "cell_type": "markdown",
      "id": "05823ceb",
      "metadata": {
        "id": "05823ceb"
      },
      "source": [
        "\n",
        "## Program 1 — Running Statistics (Sentinel + Validation)\n",
        "\n",
        "**Write:** `stats_loop()` that repeatedly reads numbers from the user until they type `'done'`.  \n",
        "- Use `try/except` to validate input. Ignore invalid entries (warn and continue).  \n",
        "- Track **count, min, max, sum, average**.  \n",
        "- At the end, print a one-line summary like:  \n",
        "  `count=5 min=2.0 max=14.5 sum=33.0 avg=6.6`\n",
        "\n",
        "**Requirements:**\n",
        "- Use a **while loop** with a sentinel.\n",
        "- Use at least one **decision structure** (`if/elif/else`).\n",
        "- Follow **PEP 8** for naming, spacing, and comments.\n"
      ]
    },
    {
      "cell_type": "code",
      "execution_count": null,
      "id": "bc2b0125",
      "metadata": {
        "id": "bc2b0125",
        "outputId": "3e715dd7-7b76-490b-e644-a85db8962bd7",
        "colab": {
          "base_uri": "https://localhost:8080/"
        }
      },
      "outputs": [
        {
          "output_type": "stream",
          "name": "stdout",
          "text": [
            "Enter a number (or 'done'): 34\n",
            "Enter a number (or 'done'): 23\n",
            "Enter a number (or 'done'): 13\n",
            "Enter a number (or 'done'): 1\n",
            "Enter a number (or 'done'): 14\n",
            "Enter a number (or 'done'): done\n",
            "count=5 min=1.0 max=34.0 sum=85.0 avg=17.0\n"
          ]
        }
      ],
      "source": [
        "\n",
        "def stats_loop():\n",
        "    count = 0\n",
        "    min = None\n",
        "    max = None\n",
        "    total = 0\n",
        "\n",
        "    while True:\n",
        "        raw = input(\"Enter a number (or 'done'): \").strip().lower()\n",
        "        if raw == \"done\":\n",
        "            break\n",
        "        try:\n",
        "            num = float(raw)\n",
        "        except ValueError:\n",
        "            print(\"Not a number — try again.\")\n",
        "            continue\n",
        "        count += 1\n",
        "        total += num\n",
        "        if min is None or num < min:\n",
        "            min = num\n",
        "        if max is None or num > max:\n",
        "            max = num\n",
        "    if count > 0:\n",
        "            print(f\"count={count} min={min} max={max} sum={total} avg={total / count}\")\n",
        "    else:\n",
        "            print(\"No numbers entered.\")\n",
        "stats_loop()\n",
        "\n"
      ]
    },
    {
      "cell_type": "code",
      "source": [
        "stats_loop()"
      ],
      "metadata": {
        "id": "BJVyBp9DI1B5",
        "outputId": "206bfda9-cce5-4d92-8e6e-ef80e1f97782",
        "colab": {
          "base_uri": "https://localhost:8080/"
        }
      },
      "id": "BJVyBp9DI1B5",
      "execution_count": null,
      "outputs": [
        {
          "output_type": "stream",
          "name": "stdout",
          "text": [
            "Enter a number (or 'done'): thirteen\n",
            "Not a number — try again.\n",
            "Enter a number (or 'done'): 12\n",
            "Enter a number (or 'done'): 23\n",
            "Enter a number (or 'done'): 12\n",
            "Enter a number (or 'done'): 23\n",
            "Enter a number (or 'done'): done\n",
            "count=4 min=12.0 max=23.0 sum=70.0 avg=17.5\n"
          ]
        }
      ]
    },
    {
      "cell_type": "markdown",
      "id": "cc1cb2cf",
      "metadata": {
        "id": "cc1cb2cf"
      },
      "source": [
        "\n",
        "## Program 2 — Password Attempts (Decisions + While)\n",
        "\n",
        "**Write:** `login_sim(correct_password: str, max_attempts: int = 3)`  \n",
        "- Prompt until the user enters the correct password or attempts are exhausted.  \n",
        "- Enforce a **policy**: at least 8 chars, contains a digit and a letter.  \n",
        "- Provide **specific feedback** for failures using `if/elif/else`.  \n",
        "- Use `try/except` only if you choose to add extra parsing; the main need here is decisions + while.\n",
        "\n",
        "**Tip:** Put the policy check in a **helper function** with a docstring.\n"
      ]
    },
    {
      "cell_type": "code",
      "execution_count": null,
      "id": "cf5e5e3d",
      "metadata": {
        "id": "cf5e5e3d",
        "outputId": "b6673df9-f721-4a08-d9b0-830e4965cfb8",
        "colab": {
          "base_uri": "https://localhost:8080/"
        }
      },
      "outputs": [
        {
          "output_type": "stream",
          "name": "stdout",
          "text": [
            "Please enter your password: ellamarcus\n",
            "Invalid- password must have at least 1 number. Please try again.\n",
            "Please enter your password: introtoprogramming1\n",
            "Login successful\n"
          ]
        }
      ],
      "source": [
        "def policy(password: str):\n",
        "    \"\"\"\n",
        "    Check that the password follows the policy:\n",
        "    -at least 8 characters\n",
        "    -contains a digit\n",
        "    -contains a letter\n",
        "    \"\"\"\n",
        "    if len(password) < 8:\n",
        "        print(\"Invalid- password must be at least 8 characters. Please try again.\")\n",
        "        return False\n",
        "    else:\n",
        "        if not any(char.isalpha() for char in password):\n",
        "            print(\"Invalid- password must have at least 1 letter. Please try again.\")\n",
        "            return False\n",
        "        elif not any(char.isdigit() for char in password):\n",
        "            print(\"Invalid- password must have at least 1 number. Please try again.\")\n",
        "            return False\n",
        "        else:\n",
        "            return True\n",
        "\n",
        "\n",
        "def login_sim(correct_password: str, max_attempts: int = 3):\n",
        "    attempts = 0\n",
        "    while attempts < max_attempts:\n",
        "        user_input = input(\"Please enter your password: \")\n",
        "        if not policy(user_input):\n",
        "            attempts += 1\n",
        "            continue\n",
        "        if user_input == correct_password:\n",
        "            print(\"Login successful\")\n",
        "            break\n",
        "        else:\n",
        "            print(\"Incorrect password. Please try again.\")\n",
        "            attempts += 1\n",
        "            continue\n",
        "    else:\n",
        "        print(\"Login unsuccessful. No more attempts left.\")\n",
        "login_sim(\"introtoprogramming1\")\n"
      ]
    },
    {
      "cell_type": "code",
      "source": [
        "login_sim(\"introtoprogramming1\")"
      ],
      "metadata": {
        "id": "Fl8wRPbe_UFq",
        "outputId": "6cd67b2d-2140-4536-aab6-b538c267e0cb",
        "colab": {
          "base_uri": "https://localhost:8080/"
        }
      },
      "id": "Fl8wRPbe_UFq",
      "execution_count": null,
      "outputs": [
        {
          "output_type": "stream",
          "name": "stdout",
          "text": [
            "Please enter your password: ellamarcus\n",
            "Invalid- password must have at least 1 number. Please try again.\n",
            "Please enter your password: 123456789\n",
            "Invalid- password must have at least 1 letter. Please try again.\n",
            "Please enter your password: emarcus\n",
            "Invalid- password must be at least 8 characters. Please try again.\n",
            "Login unsuccessful. No more attempts left.\n"
          ]
        }
      ]
    },
    {
      "cell_type": "markdown",
      "id": "9efbc851",
      "metadata": {
        "id": "9efbc851"
      },
      "source": [
        "\n",
        "## Program 3 — Collatz Analyzer (While + Decisions)\n",
        "\n",
        "**Write:** `collatz_steps(n: int) -> int` that returns the number of steps to reach 1 using the Collatz rules:  \n",
        "- If `n` is even, `n = n // 2`  \n",
        "- Else `n = 3*n + 1`\n",
        "\n",
        "**Then write:** `collatz_report(start: int, stop: int)` that prints the number between `start` and `stop` (inclusive) with the **maximum** steps and the step count.\n",
        "\n",
        "** Note there are two aspects of this question which are tricky.\n",
        "- [ ] the for loop in `collatz_report` is written `for num in (start, stop)`\n",
        "- [ ] you are calling `collatz_steps` from within `collatz_report` and it is this loop that keeps track of where the ** maximum ** steps and step count are found. So `collatz_steps` is **not** called from the main program\n",
        "\n",
        "**Requirements:**\n",
        "- Input validation with `try/except` in a wrapper `main()` that reads `start` and `stop` from the user.\n",
        "- Use a **for** loop in `collatz_report`; use a **while** loop in `collatz_steps`.\n",
        "- Use decisions appropriately.\n"
      ]
    },
    {
      "cell_type": "code",
      "execution_count": null,
      "id": "6e7a622e",
      "metadata": {
        "id": "6e7a622e",
        "outputId": "3bdbd6d7-edfb-48a0-b9cf-c0f44ee1f674",
        "colab": {
          "base_uri": "https://localhost:8080/"
        }
      },
      "outputs": [
        {
          "output_type": "stream",
          "name": "stdout",
          "text": [
            "What is your starting number? 12\n",
            "What is your ending number? 20\n",
            "Between 12 and 20 the number with the most steps is 18 with 20 steps. \n"
          ]
        }
      ],
      "source": [
        "def collatz_steps(n: int) -> int:\n",
        "    \"\"\"\n",
        "    Return number of steps to reach 1 following Collatz rules\n",
        "    If input number is even, n = n // 2.\n",
        "    If input number is odd - else n = 3 * n + 1.\n",
        "    Each step that it takes - steps += 1.\n",
        "    \"\"\"\n",
        "    steps =  # Counts steps taken to reach 1\n",
        "    while n > 1:  # Repeat until n = 1, Checks that n is a valid integer\n",
        "        if n % 2 == 0:  # Checking if n is odd or even\n",
        "            n = n // 2\n",
        "        else:\n",
        "            n = 3 * n + 1\n",
        "        steps += 1  # step counter\n",
        "    return steps\n",
        "\n",
        "\n",
        "def collatz_report(start: int, stop: int):\n",
        "    \"\"\"\n",
        "    Keeps track of how many steps taken and number that has max steps.\n",
        "    Loops through all numbers entered using for loop.\n",
        "    Prints the number with the max steps and the number of steps taken.\n",
        "    \"\"\"\n",
        "    step_count = 0  # How many steps taken, is replaced if there is a number with more steps\n",
        "    max_steps_num = start  # Tracks the number with the most amount of steps\n",
        "    for num in range(start, stop + 1):  # Loops through numbers from input\n",
        "        steps = collatz_steps(num)  # Keep track of how many steps taken from collatz_steps\n",
        "        if steps > step_count:  # Replaces step_count and max_steps_num if there's a number with more steps\n",
        "            step_count = steps\n",
        "            max_steps_num = num\n",
        "    print(f\"Between {start} and {stop} the number with the most steps is {max_steps_num} with {step_count} steps. \")\n",
        "\n",
        "def main():\n",
        "    \"\"\"\n",
        "    Asks user for starting and ending number.\n",
        "    Checks that they are valid integers.\n",
        "    Checks that starting number is lower than ending number using if.\n",
        "    Checks that starting and ending number are positive using if.\n",
        "    Call collatz_report\n",
        "    \"\"\"\n",
        "    try:\n",
        "        start = int(input(\"What is your starting number? \"))\n",
        "        stop = int(input(\"What is your ending number? \"))\n",
        "    except ValueError:  # Checks that a valid integer is entered\n",
        "        print(\"Please enter a valid integer.\")\n",
        "        return\n",
        "    if start > stop:  # Checks that start is lower than stop\n",
        "        print(\"Please enter a starting number lower than your ending number. \")\n",
        "        return\n",
        "    if start < 1 or stop < 1:  # Checks that start and stop are positive numbers\n",
        "        print(\"Please enter a positive number. \")\n",
        "        return\n",
        "    collatz_report(start, stop)  # Calls collatz_report for info\n",
        "main()"
      ]
    },
    {
      "cell_type": "code",
      "source": [
        "main()"
      ],
      "metadata": {
        "id": "2BXxVpuWkbEe",
        "outputId": "dcd0163c-01bb-4889-bb2e-131a010c3ea6",
        "colab": {
          "base_uri": "https://localhost:8080/"
        }
      },
      "id": "2BXxVpuWkbEe",
      "execution_count": null,
      "outputs": [
        {
          "output_type": "stream",
          "name": "stdout",
          "text": [
            "What is your starting number? twenty\n",
            "Please enter a valid integer.\n"
          ]
        }
      ]
    },
    {
      "cell_type": "markdown",
      "id": "c2ec00e1",
      "metadata": {
        "id": "c2ec00e1"
      },
      "source": [
        "\n",
        "## Program 4 — Grid Count (Nested Loops + Decisions)\n",
        "\n",
        "** this exercise we will skip as it is a nested loop structure, we will learn this next class - so you receive free points here."
      ]
    },
    {
      "cell_type": "code",
      "execution_count": null,
      "id": "daf5f519",
      "metadata": {
        "id": "daf5f519"
      },
      "outputs": [],
      "source": [
        "# your code here"
      ]
    },
    {
      "cell_type": "markdown",
      "id": "ecba85ff",
      "metadata": {
        "id": "ecba85ff"
      },
      "source": [
        "\n",
        "## Program 5 — Receipt Parser (While + Try/Except + Decisions)\n",
        "\n",
        "**Write:** `receipt_total()` that repeatedly reads lines like `item,quantity,price` until the user types `'done'`.  \n",
        "- Validate that `quantity` is an integer and `price` is a float.  \n",
        "- Accumulate a subtotal and print a formatted receipt at the end.  \n",
        "- Ignore malformed lines (warn and continue).\n",
        "\n",
        "**Example input:**\n",
        "```\n",
        "apple,2,1.25\n",
        "banana,3,0.60\n",
        "done\n",
        "```\n",
        "**Output end line:**\n",
        "```\n",
        "Items: 2  Units: 5  Subtotal: $3.65\n",
        "```\n"
      ]
    },
    {
      "cell_type": "code",
      "execution_count": null,
      "id": "a2880a4b",
      "metadata": {
        "id": "a2880a4b",
        "outputId": "e4a6b675-83d6-467e-8a28-7f2b96315ffe",
        "colab": {
          "base_uri": "https://localhost:8080/"
        }
      },
      "outputs": [
        {
          "output_type": "stream",
          "name": "stdout",
          "text": [
            "What is your item? oranges\n",
            "What is the quantity of your item? 3\n",
            "What is the price of your item? .75\n",
            "What is your item? cucmbers\n",
            "What is the quantity of your item? 5\n",
            "What is the price of your item? 1.25\n",
            "What is your item? peppers\n",
            "What is the quantity of your item? 6\n",
            "What is the price of your item? .50\n",
            "What is your item? done\n",
            "Items: 3 Units: 14 Subtotal: $11.50.\n"
          ]
        }
      ],
      "source": [
        "def receipt_total():\n",
        "    \"\"\"\n",
        "    Repeatedly reads lines like item, quantity, price until the user types 'done'.\n",
        "    Validates that quantity: int and price: float.\n",
        "    Accumulate a subtotal based on quantity * price.\n",
        "    Prints formatted receipt.\n",
        "    \"\"\"\n",
        "    items = 0  # Number of items for receipt\n",
        "    quantity_num = 0  # Quantity number for receipt\n",
        "    subtotal = 0  # Subtotal of all items for receipt\n",
        "    # Loop through each item in the list - item, quantity, price\n",
        "    while True:\n",
        "        try:\n",
        "            item = input(\"What is your item? \").strip().lower()\n",
        "            if item == \"done\":  # Checking if done, if yes - exit loop\n",
        "                break\n",
        "            if not item.isalpha():  # Checking if item is valid with only letters\n",
        "                print(\"Please enter a valid item. \")\n",
        "                continue\n",
        "            items += 1\n",
        "            quantity = int(input(\"What is the quantity of your item? \"))\n",
        "            quantity_num += quantity  # Adding quantity for units in receipt\n",
        "            price = float(input(\"What is the price of your item? \"))\n",
        "            subtotal += price * quantity  # Calculates item total and adds it to subtotal\n",
        "        except ValueError:\n",
        "            print(\"Please enter a valid quantity and price. \")\n",
        "    print(f\"Items: {items} Units: {quantity_num} Subtotal: ${subtotal:.2f}.\")\n",
        "receipt_total()"
      ]
    },
    {
      "cell_type": "code",
      "source": [
        "receipt_total()"
      ],
      "metadata": {
        "id": "BKm2aA3qoaio",
        "outputId": "515533c0-e193-4da3-ce0b-fe011932f1c4",
        "colab": {
          "base_uri": "https://localhost:8080/"
        }
      },
      "id": "BKm2aA3qoaio",
      "execution_count": null,
      "outputs": [
        {
          "output_type": "stream",
          "name": "stdout",
          "text": [
            "What is your item? 2.3\n",
            "Please enter a valid item. \n",
            "What is your item? apples\n",
            "What is the quantity of your item? 3.45\n",
            "Please enter a valid quantity and price. \n",
            "What is your item? apples\n",
            "What is the quantity of your item? 3\n",
            "What is the price of your item? 2\n",
            "What is your item? done\n",
            "Items: 2 Units: 3 Subtotal: $6.00.\n"
          ]
        }
      ]
    },
    {
      "cell_type": "markdown",
      "id": "96844e4c",
      "metadata": {
        "id": "96844e4c"
      },
      "source": [
        "\n",
        "## Optional Challenge — Prime Gaps (For + Decisions)\n",
        "\n",
        "Write `is_prime(n: int) -> bool` and then `max_gap(a: int, b: int) -> tuple[int,int,int]` that returns `(p, q, gap)` where `p` and `q` are consecutive primes in `[a, b]` with the **largest** gap.\n",
        "\n",
        "- Use **for** loops and decisions; keep it simple and readable.\n"
      ]
    },
    {
      "cell_type": "markdown",
      "id": "4eddd5e9",
      "metadata": {
        "id": "4eddd5e9"
      },
      "source": [
        "\n",
        "## Submission Checklist\n",
        "- [ ] I used `while` and/or `for` appropriately for each task.\n",
        "- [ ] I validated user input with `try/except` where required.\n",
        "- [ ] I used clear names, docstrings, and helpful comments.\n",
        "- [ ] I kept lines ≤ 79–99 chars and used proper whitespace.\n",
        "- [ ] ***  I have removed the reference to asserts as we have not learned this yet\n"
      ]
    },
    {
      "cell_type": "markdown",
      "id": "96a91da6",
      "metadata": {
        "id": "96a91da6"
      },
      "source": [
        "\n",
        "## Grading Rubric (25 pts)\n",
        "\n",
        "| Criterion | Points |\n",
        "|---|---:|\n",
        "| Program 1 — Stats loop (correctness + validation + clarity) | 6 |\n",
        "| Program 2 — Password attempts (logic + decisions + clarity) | 5 |\n",
        "| Program 3 — Collatz analyzer (while + for + validation) | 6 |\n",
        "| Program 5 — Grid count (nested loops + tests) | 5 |\n",
        "| Overall PEP 8 style & explanations | 3 |\n"
      ]
    }
  ],
  "metadata": {
    "colab": {
      "provenance": []
    },
    "language_info": {
      "name": "python"
    },
    "kernelspec": {
      "name": "python3",
      "display_name": "Python 3"
    }
  },
  "nbformat": 4,
  "nbformat_minor": 5
}