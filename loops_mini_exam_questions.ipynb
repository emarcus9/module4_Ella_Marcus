{
  "cells": [
    {
      "cell_type": "markdown",
      "id": "6e143f87",
      "metadata": {
        "id": "6e143f87"
      },
      "source": [
        "# Intro Loops Mini‑Exam — All Coding (5 Questions)\n",
        "**Topics:** `for`, `while`, `range`, `break`, `continue`, basic `if/else`, optional `try/except`\n",
        "\n",
        "### Rules\n",
        "- Use `range` where helpful.\n",
        "- **Do not use** `enumerate`, list comprehensions, or **nested loops**.\n",
        "- You may use simple `try/except` for input validation where the prompt asks for it.\n",
        "- Keep code clear and commented (brief intent comments are enough).\n",
        "\n",
        "### What to Submit\n",
        "- Complete the five problems below in the provided code cells.\n",
        "- Do **not** modify the problem statements.\n",
        "- Run each cell to ensure it executes (no crashes on valid inputs).\n",
        "\n",
        "### Academic Honesty\n",
        "- Write your own code. Keep solutions simple and readable.\n"
      ]
    },
    {
      "cell_type": "markdown",
      "id": "b26ce537",
      "metadata": {
        "id": "b26ce537"
      },
      "source": [
        "## 1) Count Up (for + range)\n",
        "Ask the user for a **positive integer `n`**. Print the numbers **1..n** on **one line** separated by spaces.\n",
        "- Use a `for` loop with `range`.\n",
        "- If the input isn’t a positive integer, print a friendly error and stop.\n"
      ]
    },
    {
      "cell_type": "code",
      "execution_count": 2,
      "id": "238370a9",
      "metadata": {
        "id": "238370a9",
        "problem": 1,
        "colab": {
          "base_uri": "https://localhost:8080/"
        },
        "outputId": "2ec3274d-1755-476d-d118-38483024b9a0"
      },
      "outputs": [
        {
          "output_type": "stream",
          "name": "stdout",
          "text": [
            "What is your positive number? 6\n",
            "1 2 3 4 5 6 "
          ]
        }
      ],
      "source": [
        "# Use function so can use return (only works in function in colabs)\n",
        "def count_up():\n",
        "    try:  # Catches non integer input\n",
        "        n = int(input(\"What is your positive number? \"))\n",
        "    except ValueError:\n",
        "        print(\"Invalid input- please enter a valid integer.\")\n",
        "        return\n",
        "    if n <= 0:  # Catches negative number input\n",
        "        print(\"Please enter a positive number.\")\n",
        "        return\n",
        "    for num in range(1, n+1):  # n+1 to include last number\n",
        "        print(num, end=\" \")  # adds space after each number\n",
        "count_up()\n",
        "\n"
      ]
    },
    {
      "cell_type": "markdown",
      "id": "2afee823",
      "metadata": {
        "id": "2afee823"
      },
      "source": [
        "## 2) Sum of Squares (for)\n",
        "Ask for a **positive integer `n`**. Compute and print **`1^2 + 2^2 + … + n^2`**.\n",
        "- Use a `for` loop.\n",
        "- Validate input (print an error and stop if invalid).\n"
      ]
    },
    {
      "cell_type": "code",
      "execution_count": 6,
      "id": "0f0ed988",
      "metadata": {
        "id": "0f0ed988",
        "problem": 2,
        "colab": {
          "base_uri": "https://localhost:8080/"
        },
        "outputId": "dca10b93-2e81-4d9e-8dab-a2ceaa803e77"
      },
      "outputs": [
        {
          "output_type": "stream",
          "name": "stdout",
          "text": [
            "What is your positive number? 3\n",
            "Your total is 14.\n"
          ]
        }
      ],
      "source": [
        "# Use function so can use return (only works in function in colabs)\n",
        "def sum_of_squares():\n",
        "    try:  # Catches non integer input\n",
        "        n = int(input(\"What is your positive number? \"))\n",
        "    except ValueError:\n",
        "        print(\"Invalid input- please enter a valid integer.\")\n",
        "        return\n",
        "    if n <= 0:  # Catches negative number input\n",
        "        print(\"Please enter a positive number.\")\n",
        "        return\n",
        "    total = 0\n",
        "    for num in range(1, n+1):  # n+1 to include last number\n",
        "        total += num * num  # add the square of each number to the total\n",
        "    print(f\"Your total is {total}.\")\n",
        "sum_of_squares()\n"
      ]
    },
    {
      "cell_type": "code",
      "source": [
        "# I wasn't sure what the question was asking so I did this as well but then realized it wasn't asking for this:\n",
        "def sum_of_squares():\n",
        "    try:  # Catches non integer input\n",
        "        n = int(input(\"What is your positive number? \"))\n",
        "    except ValueError:\n",
        "        print(\"Invalid input- please enter a positive integer.\")\n",
        "        return\n",
        "    if n <= 0:  # Catches negative number input\n",
        "        print(\"Please enter a positive number.\")\n",
        "        return\n",
        "    for num in range(1, n+1):  # n+1 to include last number\n",
        "        if num == n:\n",
        "            print(num, end=\"^2\")  # So the last number doesn't have a plus sign\n",
        "        else:\n",
        "            print(num, end=\"^2 + \")  # All other numbers include plus sign\n",
        "sum_of_squares()"
      ],
      "metadata": {
        "colab": {
          "base_uri": "https://localhost:8080/"
        },
        "id": "69uGZhjOnWQA",
        "outputId": "84395317-4fe3-4619-cb47-4c2327f47ced"
      },
      "id": "69uGZhjOnWQA",
      "execution_count": 22,
      "outputs": [
        {
          "output_type": "stream",
          "name": "stdout",
          "text": [
            "What is your positive number? 4\n",
            "1^2 + 2^2 + 3^2 + 4^2"
          ]
        }
      ]
    },
    {
      "cell_type": "markdown",
      "id": "13dd0fd1",
      "metadata": {
        "id": "13dd0fd1"
      },
      "source": [
        "## 3) Min/Max with “done” (while + try/except)\n",
        "Repeatedly read integers until the user types **`done`**. Ignore invalid entries with a warning.\n",
        "At the end:\n",
        "- If at least one valid number was entered, print `min = ___, max = ___`.\n",
        "- Otherwise print `No numbers entered.`\n",
        "- Use a `while True:` loop and `break` on `'done'`.\n"
      ]
    },
    {
      "cell_type": "code",
      "execution_count": 10,
      "id": "e8afc3b3",
      "metadata": {
        "id": "e8afc3b3",
        "problem": 3,
        "colab": {
          "base_uri": "https://localhost:8080/"
        },
        "outputId": "479cde58-0286-449a-cd7e-ad2e361a59ad"
      },
      "outputs": [
        {
          "output_type": "stream",
          "name": "stdout",
          "text": [
            "Please enter a number or done: 2\n",
            "Please enter a number or done: 5\n",
            "Please enter a number or done: 3\n",
            "Please enter a number or done: 2\n",
            "Please enter a number or done: 1\n",
            "Please enter a number or done: 567\n",
            "Please enter a number or done: 45\n",
            "Please enter a number or done: 2\n",
            "Please enter a number or done: done\n",
            "min = 1, max = 567.\n"
          ]
        }
      ],
      "source": [
        "count = 0\n",
        "minimum = None\n",
        "maximum = None\n",
        "while True:  # Use while loop to keep getting user input\n",
        "    num = input(\"Please enter a number or done: \")\n",
        "    if num.strip().lower() == \"done\":  # Stops function if done is entered\n",
        "        break\n",
        "    try:  # Catches error if non integer is entered\n",
        "        new_num = int(num)\n",
        "    except ValueError:\n",
        "        print(\"Please enter a valid integer.\")\n",
        "        continue\n",
        "    count += 1  # Adds to count to confirm that at least one number is entered\n",
        "    if minimum is None or new_num < minimum:  # Replaces minimum if lower number is entered\n",
        "        minimum = new_num\n",
        "    if maximum is None or new_num > maximum:  # Replaces maximum if higher number is entered\n",
        "        maximum = new_num\n",
        "if count > 0:  # Confirms that at least one number was entered\n",
        "    print(f\"min = {minimum}, max = {maximum}.\")\n",
        "else:\n",
        "    print(\"No numbers entered.\")\n"
      ]
    },
    {
      "cell_type": "markdown",
      "id": "950eed12",
      "metadata": {
        "id": "950eed12"
      },
      "source": [
        "## 4) Skip & Stop (for + continue/break)\n",
        "Ask for a **positive integer `n`** (upper bound).\n",
        "- Loop from **1..n**.\n",
        "- **Skip** (do not print) numbers that are multiples of **4** using `continue`.\n",
        "- If you reach **42**, **print 42 and then stop** the loop using `break`.\n",
        "- Each printed number goes on its own line.\n",
        "- Validate input; print an error and stop if invalid.\n"
      ]
    },
    {
      "cell_type": "code",
      "execution_count": 14,
      "id": "cfd13035",
      "metadata": {
        "id": "cfd13035",
        "problem": 4,
        "colab": {
          "base_uri": "https://localhost:8080/"
        },
        "outputId": "6f397364-5c26-47c9-abc7-8f09334b9102"
      },
      "outputs": [
        {
          "output_type": "stream",
          "name": "stdout",
          "text": [
            "What is your positive number? 29\n",
            "1\n",
            "2\n",
            "3\n",
            "5\n",
            "6\n",
            "7\n",
            "9\n",
            "10\n",
            "11\n",
            "13\n",
            "14\n",
            "15\n",
            "17\n",
            "18\n",
            "19\n",
            "21\n",
            "22\n",
            "23\n",
            "25\n",
            "26\n",
            "27\n",
            "29\n"
          ]
        }
      ],
      "source": [
        "# Use function so can use return (only works in function in colabs)\n",
        "def skip_stop():\n",
        "    try:  # Catches non integer input\n",
        "        n = int(input(\"What is your positive number? \"))\n",
        "    except ValueError:\n",
        "        print(\"Invalid input- please enter a valid integer.\")\n",
        "        return\n",
        "    if n <= 0:  # Catches negative number input\n",
        "        print(\"Please enter a positive number.\")\n",
        "        return\n",
        "    for num in range(1, n+1):  # n+1 to include last number\n",
        "        if num % 4 == 0:  # Skips multiples of four\n",
        "            continue\n",
        "        if num == 42:  # Breaks when num reaches 42\n",
        "            print(num)\n",
        "            break\n",
        "        print(num)\n",
        "skip_stop()"
      ]
    },
    {
      "cell_type": "markdown",
      "id": "34d640d5",
      "metadata": {
        "id": "34d640d5"
      },
      "source": [
        "## 5) Even Sum with Entry Limit (while + try/except)\n",
        "Ask for a **target count `k`** (how many entries to read). Then read up to `k` user inputs (one per loop).\n",
        "- Convert each to `int` with `try/except`.\n",
        "- Keep a running **sum of even numbers only** (ignore odds and invalid entries).\n",
        "- After `k` inputs, print `even_sum = ___, valid_evens = ___`.\n",
        "- If `k` isn’t a positive integer, print an error and stop.\n"
      ]
    },
    {
      "cell_type": "code",
      "execution_count": 16,
      "id": "a7717a90",
      "metadata": {
        "id": "a7717a90",
        "problem": 5,
        "colab": {
          "base_uri": "https://localhost:8080/"
        },
        "outputId": "96cb555f-e07d-440a-c322-98a53592728a"
      },
      "outputs": [
        {
          "output_type": "stream",
          "name": "stdout",
          "text": [
            "What is your target count? 4\n",
            "Please enter an integer: 2\n",
            "Please enter an integer: 7\n",
            "Please enter an integer: 84\n",
            "Please enter an integer: 23\n",
            "even sum = 86, valid evens = 2.\n"
          ]
        }
      ],
      "source": [
        "# Use function so can use return (only works in function in colabs)\n",
        "def even_sum():\n",
        "    count = 0\n",
        "    even_sum = 0\n",
        "    valid_evens = 0\n",
        "    try:  # Catches non integer input\n",
        "        k = int(input(\"What is your target count? \"))\n",
        "    except ValueError:\n",
        "        print(\"Please enter a valid integer.\")\n",
        "        return\n",
        "    if k <= 0:  # Catches error if k is negative\n",
        "        print(\"Please enter a positive number.\")\n",
        "        return\n",
        "    while count < k:  # Loop runs only until target count is reached\n",
        "        try:  # Catches error if input isn't valid integer\n",
        "            n = int(input(\"Please enter an integer: \"))\n",
        "        except ValueError:\n",
        "            print(\"Please enter a valid integer.\")\n",
        "            continue\n",
        "        count += 1  # Keeps track of count to confirm it's less than k\n",
        "        if n % 2 == 0:  # Checks if number is even\n",
        "            even_sum += n  # Keeps running total of all even numbers\n",
        "            valid_evens += 1  # Keeps track of number of evens\n",
        "    print(f\"even sum = {even_sum}, valid evens = {valid_evens}.\")\n",
        "even_sum()\n"
      ]
    },
    {
      "cell_type": "markdown",
      "source": [
        "## 6)  How long did you work on this quiz ? Was this quiz : hard, easy, just right ?"
      ],
      "metadata": {
        "id": "m9THXy-oU-Ud"
      },
      "id": "m9THXy-oU-Ud"
    },
    {
      "cell_type": "markdown",
      "source": [
        "Answer here : I found the quiz challenging and it took me more than an hour and a half. I found it hard to understand what some of the questions were asking. Thank you so much!:)"
      ],
      "metadata": {
        "id": "IzQbO93tVKDv"
      },
      "id": "IzQbO93tVKDv"
    }
  ],
  "metadata": {
    "kernelspec": {
      "display_name": "Python 3",
      "language": "python",
      "name": "python3"
    },
    "language_info": {
      "name": "python"
    },
    "colab": {
      "provenance": []
    }
  },
  "nbformat": 4,
  "nbformat_minor": 5
}